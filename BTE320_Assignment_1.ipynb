{
  "nbformat": 4,
  "nbformat_minor": 0,
  "metadata": {
    "colab": {
      "provenance": [],
      "authorship_tag": "ABX9TyP1eoNhTeXo7d/uExEFyOu6",
      "include_colab_link": true
    },
    "kernelspec": {
      "name": "python3",
      "display_name": "Python 3"
    },
    "language_info": {
      "name": "python"
    }
  },
  "cells": [
    {
      "cell_type": "markdown",
      "metadata": {
        "id": "view-in-github",
        "colab_type": "text"
      },
      "source": [
        "<a href=\"https://colab.research.google.com/github/jpyanezn/BTE320/blob/main/BTE320_Assignment_1.ipynb\" target=\"_parent\"><img src=\"https://colab.research.google.com/assets/colab-badge.svg\" alt=\"Open In Colab\"/></a>"
      ]
    },
    {
      "cell_type": "code",
      "execution_count": null,
      "metadata": {
        "colab": {
          "base_uri": "https://localhost:8080/"
        },
        "id": "vnx3NTDufxqc",
        "outputId": "95b470a9-2280-408f-d946-5a603b96edeb"
      },
      "outputs": [
        {
          "output_type": "stream",
          "name": "stdout",
          "text": [
            "Enter customer type (n: new, e: existing): new\n",
            "enter deposit amount: 20000\n",
            "deposit at the end of year: 20700.0\n"
          ]
        }
      ],
      "source": [
        "\n",
        "Customer_type = input('Enter customer type (n: new, e: existing): ')\n",
        "deposit = float(input('enter deposit amount: '))\n",
        "\n",
        "\n",
        "if Customer_type == 'n':\n",
        "  ir = 3.0\n",
        "else:\n",
        "  if deposit > 10000:\n",
        "    ir = 3.5\n",
        "  elif deposit > 1000:\n",
        "    ir = 3.25\n",
        "  else:\n",
        "    ir = 3.0\n",
        "\n",
        "total = (1 + ir/100) * deposit\n",
        "print(f'deposit at the end of year: {round(total, 2)}')\n"
      ]
    },
    {
      "cell_type": "code",
      "source": [
        "# Let's test the compound expression\n",
        "\n",
        "x = 4\n",
        "y = 8\n",
        "z = 12\n",
        "\n",
        "if x < y and x < z:\n",
        "  print('x is least')\n",
        "elif y < z:\n",
        "  print('y is least')\n",
        "else:\n",
        "  print('z is least')"
      ],
      "metadata": {
        "colab": {
          "base_uri": "https://localhost:8080/"
        },
        "id": "6rDDMvmf2R-8",
        "outputId": "98264171-3ca0-4045-d66d-3e8a6f9834be"
      },
      "execution_count": null,
      "outputs": [
        {
          "output_type": "stream",
          "name": "stdout",
          "text": [
            "x is least\n"
          ]
        }
      ]
    },
    {
      "cell_type": "code",
      "source": [
        "base_fee = 5\n",
        "hourly_fee = 2.5\n",
        "\n",
        "for hour in range(1,9):\n",
        "  fee = base_fee + hourly_fee * hour\n",
        "  print(f'{hour} {fee}$')\n",
        "\n",
        "\n",
        "\n",
        "\n",
        "\n"
      ],
      "metadata": {
        "id": "5K9TiSJF4AJP",
        "colab": {
          "base_uri": "https://localhost:8080/"
        },
        "outputId": "7da91870-5a96-44d5-b6d6-a07b4224c5fb"
      },
      "execution_count": null,
      "outputs": [
        {
          "output_type": "stream",
          "name": "stdout",
          "text": [
            "1 7.5$\n",
            "2 10.0$\n",
            "3 12.5$\n",
            "4 15.0$\n",
            "5 17.5$\n",
            "6 20.0$\n",
            "7 22.5$\n",
            "8 25.0$\n"
          ]
        }
      ]
    },
    {
      "cell_type": "code",
      "source": [
        "ticket = 10\n",
        "no_advertising = 20\n",
        "fixed_costs = 200\n",
        "\n",
        "\n",
        "for advc in range(0,201,25):\n",
        "  additional_attendees=2*round(advc**0.5)\n",
        "  profit=(no_advertising+ticket+additional_attendees)*ticket-fixed_costs\n",
        "  print(f'{advc} {profit}')\n",
        "\n",
        "\n"
      ],
      "metadata": {
        "colab": {
          "base_uri": "https://localhost:8080/"
        },
        "id": "lsLZjUr78YEz",
        "outputId": "27ae211b-0677-412d-b18c-000a98050ede"
      },
      "execution_count": null,
      "outputs": [
        {
          "output_type": "stream",
          "name": "stdout",
          "text": [
            "0 100\n",
            "25 200\n",
            "50 240\n",
            "75 280\n",
            "100 300\n",
            "125 320\n",
            "150 340\n",
            "175 360\n",
            "200 380\n"
          ]
        }
      ]
    },
    {
      "cell_type": "code",
      "source": [
        "while True:\n",
        "  num1 = float(input('Enter first number: '))\n",
        "  num2 = float(input('Enter second number: '))\n",
        "  operator = input('Enter the operator: ')\n",
        "\n",
        "  if operator == 'break':\n",
        "    break\n",
        "\n",
        "  if operator == \"+\":\n",
        "    answer = num1 + num2\n",
        "  elif operator == \"-\":\n",
        "    answer = num1 - num2\n",
        "  elif operator == \"*\":\n",
        "    answer = num1 * num2\n",
        "  elif operator == \"/\":\n",
        "    answer = num1 / num2\n",
        "  elif operator == \"//\":\n",
        "    answer = num1 // num2\n",
        "  elif operator == \"**\":\n",
        "    answer = num1 ** num2\n",
        "  elif operator == \"%\":\n",
        "    answer = num1 % num2\n",
        "  else:\n",
        "    print('Invalid operator:', operator)\n",
        "    continue\n",
        "  print(\"Result: \", answer)\n",
        "\n"
      ],
      "metadata": {
        "id": "XBhYeW2s5FNc"
      },
      "execution_count": null,
      "outputs": []
    },
    {
      "cell_type": "code",
      "source": [
        "s = 'This is a test'\n",
        "\n",
        "s2 = 'This is another test!'\n",
        "\n",
        "len(s)\n"
      ],
      "metadata": {
        "colab": {
          "base_uri": "https://localhost:8080/"
        },
        "id": "YH7iQf0nLNko",
        "outputId": "3d268ce7-41be-4096-c0f9-356d577c3c9e"
      },
      "execution_count": null,
      "outputs": [
        {
          "output_type": "execute_result",
          "data": {
            "text/plain": [
              "14"
            ]
          },
          "metadata": {},
          "execution_count": 7
        }
      ]
    },
    {
      "cell_type": "code",
      "source": [
        "print(s[8])"
      ],
      "metadata": {
        "colab": {
          "base_uri": "https://localhost:8080/"
        },
        "id": "1YnjHW4hMb84",
        "outputId": "3b900fd3-ddba-401b-f909-a12a3dbade4c"
      },
      "execution_count": null,
      "outputs": [
        {
          "output_type": "stream",
          "name": "stdout",
          "text": [
            "a\n"
          ]
        }
      ]
    },
    {
      "cell_type": "code",
      "source": [
        "print(s[5:7:1])"
      ],
      "metadata": {
        "colab": {
          "base_uri": "https://localhost:8080/"
        },
        "id": "PAOKaA4gNBHe",
        "outputId": "73639871-3e91-46de-c485-c4e0900a6a59"
      },
      "execution_count": null,
      "outputs": [
        {
          "output_type": "stream",
          "name": "stdout",
          "text": [
            "is\n"
          ]
        }
      ]
    },
    {
      "cell_type": "code",
      "source": [
        "s = 'This is a test'\n",
        "this_word = s[0:4]\n",
        "test_word = s[10:14]\n",
        "print(this_word, test_word)\n"
      ],
      "metadata": {
        "colab": {
          "base_uri": "https://localhost:8080/"
        },
        "id": "1DK9TJ_8OITn",
        "outputId": "9f3aa44b-69ca-4049-df5e-6758acf2a888"
      },
      "execution_count": null,
      "outputs": [
        {
          "output_type": "stream",
          "name": "stdout",
          "text": [
            "This test\n"
          ]
        }
      ]
    },
    {
      "cell_type": "code",
      "source": [
        "s[0:4] == s[:4]"
      ],
      "metadata": {
        "colab": {
          "base_uri": "https://localhost:8080/"
        },
        "id": "2gTLh0daQRzb",
        "outputId": "641c9833-c0af-4410-e1be-bb618adceb9a"
      },
      "execution_count": null,
      "outputs": [
        {
          "output_type": "execute_result",
          "data": {
            "text/plain": [
              "True"
            ]
          },
          "metadata": {},
          "execution_count": 20
        }
      ]
    },
    {
      "cell_type": "code",
      "source": [
        "s[13], s[len(s) -1], s[-1]"
      ],
      "metadata": {
        "colab": {
          "base_uri": "https://localhost:8080/"
        },
        "id": "A6jWsOYaQ5g4",
        "outputId": "ccc6009a-4308-4e48-a749-5d0fb6b2e5dd"
      },
      "execution_count": null,
      "outputs": [
        {
          "output_type": "execute_result",
          "data": {
            "text/plain": [
              "('t', 't', 't')"
            ]
          },
          "metadata": {},
          "execution_count": 23
        }
      ]
    },
    {
      "cell_type": "code",
      "source": [
        "s[:]"
      ],
      "metadata": {
        "colab": {
          "base_uri": "https://localhost:8080/",
          "height": 35
        },
        "id": "7_fGwhSiQcGr",
        "outputId": "f32bbbe0-9823-49b2-fcd5-168945b93e05"
      },
      "execution_count": null,
      "outputs": [
        {
          "output_type": "execute_result",
          "data": {
            "text/plain": [
              "'This is a test'"
            ],
            "application/vnd.google.colaboratory.intrinsic+json": {
              "type": "string"
            }
          },
          "metadata": {},
          "execution_count": 21
        }
      ]
    },
    {
      "cell_type": "code",
      "source": [
        "s[-4]"
      ],
      "metadata": {
        "colab": {
          "base_uri": "https://localhost:8080/",
          "height": 35
        },
        "id": "yVOAiy4dSOlw",
        "outputId": "a8b753ec-e99b-42b4-879b-7c9836159d04"
      },
      "execution_count": null,
      "outputs": [
        {
          "output_type": "execute_result",
          "data": {
            "text/plain": [
              "'t'"
            ],
            "application/vnd.google.colaboratory.intrinsic+json": {
              "type": "string"
            }
          },
          "metadata": {},
          "execution_count": 24
        }
      ]
    },
    {
      "cell_type": "code",
      "source": [
        "x = 10\n",
        "if x > 5:\n",
        "  print(\"Hello\")\n",
        "elif x < 15:\n",
        "  print(\"World\")\n",
        "else:\n",
        "  print(\"Python\")"
      ],
      "metadata": {
        "colab": {
          "base_uri": "https://localhost:8080/"
        },
        "id": "4Wv_x3lxoLM3",
        "outputId": "52450d13-0328-4b21-d02d-49b3cb317f83"
      },
      "execution_count": null,
      "outputs": [
        {
          "output_type": "stream",
          "name": "stdout",
          "text": [
            "Hello\n"
          ]
        }
      ]
    },
    {
      "cell_type": "markdown",
      "source": [
        "- If the interpreter finds a condition to be true, it ignores everything else."
      ],
      "metadata": {
        "id": "69iwd574opl9"
      }
    },
    {
      "cell_type": "code",
      "source": [
        "x = 5\n",
        "while x > 0:\n",
        "  print(x)\n",
        "  x -= 1"
      ],
      "metadata": {
        "colab": {
          "base_uri": "https://localhost:8080/"
        },
        "id": "e2HrHGZMo0gX",
        "outputId": "47fe1902-bb37-4c25-f6d1-bf647e4851aa"
      },
      "execution_count": null,
      "outputs": [
        {
          "output_type": "stream",
          "name": "stdout",
          "text": [
            "5\n",
            "4\n",
            "3\n",
            "2\n",
            "1\n"
          ]
        }
      ]
    },
    {
      "cell_type": "code",
      "source": [
        "x = 10\n",
        "if x < 5 or x % 2 == 0:\n",
        "  print(\"A\")\n",
        "elif x < 15:\n",
        "  print(\"B\")\n",
        "else:\n",
        "  print(\"C\")"
      ],
      "metadata": {
        "colab": {
          "base_uri": "https://localhost:8080/"
        },
        "id": "rnwPxGMGtqqy",
        "outputId": "80e8a47f-0e7c-4858-a947-68dcf2e6d6cd"
      },
      "execution_count": null,
      "outputs": [
        {
          "output_type": "stream",
          "name": "stdout",
          "text": [
            "A\n"
          ]
        }
      ]
    },
    {
      "cell_type": "code",
      "source": [
        "for i in range(5):\n",
        "  if i == 3:\n",
        "    continue\n",
        "  print(i)"
      ],
      "metadata": {
        "colab": {
          "base_uri": "https://localhost:8080/"
        },
        "id": "ZjBhpsp1vmY4",
        "outputId": "8857b238-b77a-4784-b89f-866c6d68f9b3"
      },
      "execution_count": null,
      "outputs": [
        {
          "output_type": "stream",
          "name": "stdout",
          "text": [
            "0\n",
            "1\n",
            "2\n",
            "4\n"
          ]
        }
      ]
    },
    {
      "cell_type": "code",
      "source": [
        "x = 5\n",
        "while x > 0:\n",
        "  print(x)\n",
        "  x += 1"
      ],
      "metadata": {
        "id": "0uz_Vtp-wxKH"
      },
      "execution_count": null,
      "outputs": []
    },
    {
      "cell_type": "code",
      "source": [
        "for i in range(1, 6):\n",
        "  if i % 2 == 0:\n",
        "    break\n",
        "  print(i)"
      ],
      "metadata": {
        "colab": {
          "base_uri": "https://localhost:8080/"
        },
        "id": "jjk16_3OxXhq",
        "outputId": "6af58ab5-d2fc-4ead-86df-fd5c9b769fe8"
      },
      "execution_count": null,
      "outputs": [
        {
          "output_type": "stream",
          "name": "stdout",
          "text": [
            "1\n"
          ]
        }
      ]
    },
    {
      "cell_type": "code",
      "source": [
        "s = 'This is another test'\n",
        "\n",
        "this_s = s[:4]\n",
        "print(this_s)\n",
        "test_s = s[-4:]\n",
        "print(test_s)\n",
        "print(s[:])"
      ],
      "metadata": {
        "colab": {
          "base_uri": "https://localhost:8080/"
        },
        "id": "WbQ9nIPZ8qu4",
        "outputId": "7e498f31-56d6-418b-c2c1-67ea5ab08578"
      },
      "execution_count": null,
      "outputs": [
        {
          "output_type": "stream",
          "name": "stdout",
          "text": [
            "This\n",
            "test\n",
            "This is another test\n"
          ]
        }
      ]
    },
    {
      "cell_type": "markdown",
      "source": [
        "In case of using default values, like start or end, you can just omit that value."
      ],
      "metadata": {
        "id": "v-FA9qTt-oTg"
      }
    },
    {
      "cell_type": "code",
      "source": [
        "date = input('Enter a date (MM/DD/YYYY): ')\n",
        "\n",
        "month = int(date[:2])\n",
        "day = int(date[3:5])\n",
        "year = int(date[6:])\n",
        "print(month, day, year)"
      ],
      "metadata": {
        "colab": {
          "base_uri": "https://localhost:8080/"
        },
        "id": "LIv5wcQw-7g3",
        "outputId": "fa0f3e44-a5bd-4e09-ef9c-f7abed7368a7"
      },
      "execution_count": null,
      "outputs": [
        {
          "output_type": "stream",
          "name": "stdout",
          "text": [
            "Enter a date (MM/DD/YYYY): 02/21/2024\n",
            "2 21 2024\n"
          ]
        }
      ]
    },
    {
      "cell_type": "code",
      "source": [
        "L = [1, 'two', 3.0, print, [5, 7, 9]]\n",
        "len(L)"
      ],
      "metadata": {
        "colab": {
          "base_uri": "https://localhost:8080/"
        },
        "id": "mcMQ1XTj9yiJ",
        "outputId": "a38d5995-d30d-4829-ed6c-0ddae22188fb"
      },
      "execution_count": null,
      "outputs": [
        {
          "output_type": "execute_result",
          "data": {
            "text/plain": [
              "5"
            ]
          },
          "metadata": {},
          "execution_count": 3
        }
      ]
    },
    {
      "cell_type": "code",
      "source": [
        "L + ['three']"
      ],
      "metadata": {
        "colab": {
          "base_uri": "https://localhost:8080/"
        },
        "id": "Alk3NOU4-ZFb",
        "outputId": "c4d24203-1973-441c-8c7c-0fc081ca4e24"
      },
      "execution_count": null,
      "outputs": [
        {
          "output_type": "execute_result",
          "data": {
            "text/plain": [
              "[1, 'two', 3.0, <function print>, [5, 7, 9], 'three']"
            ]
          },
          "metadata": {},
          "execution_count": 4
        }
      ]
    },
    {
      "cell_type": "code",
      "source": [
        "L.pop(2)\n",
        "L"
      ],
      "metadata": {
        "colab": {
          "base_uri": "https://localhost:8080/"
        },
        "id": "y7icjtN6DdI7",
        "outputId": "02ad7c86-ddec-4778-a4bc-b90736f16e1a"
      },
      "execution_count": null,
      "outputs": [
        {
          "output_type": "execute_result",
          "data": {
            "text/plain": [
              "[1, 'two', <function print>]"
            ]
          },
          "metadata": {},
          "execution_count": 6
        }
      ]
    },
    {
      "cell_type": "code",
      "source": [
        "L = []\n",
        "\n",
        "number = int(input('Enter a value: '))\n",
        "while number != 0:\n",
        "  L.append(number)\n",
        "  number = int(input('Enter a value: '))\n",
        "\n",
        "print(L)\n",
        "\n",
        "\n",
        "\n"
      ],
      "metadata": {
        "colab": {
          "base_uri": "https://localhost:8080/"
        },
        "id": "uCxyy7v9Dx_h",
        "outputId": "cc835907-7266-42af-ce35-f110c783c091"
      },
      "execution_count": null,
      "outputs": [
        {
          "output_type": "stream",
          "name": "stdout",
          "text": [
            "Enter a value: 3\n",
            "Enter a value: 4\n",
            "Enter a value: 5\n",
            "Enter a value: 6\n",
            "Enter a value: 0\n",
            "[3, 4, 5, 6]\n"
          ]
        }
      ]
    },
    {
      "cell_type": "code",
      "source": [
        "l1 = [1,2,3,4]\n",
        "l2 = [1,2,5,6]\n",
        "\n",
        "for item in l1[:]:\n",
        "  if item in l2:\n",
        "    l1.remove(item)\n",
        "l1\n"
      ],
      "metadata": {
        "colab": {
          "base_uri": "https://localhost:8080/"
        },
        "id": "HbzKPFZNTkTH",
        "outputId": "18411b4b-e57a-4940-ec9c-f3e4362eea12"
      },
      "execution_count": null,
      "outputs": [
        {
          "output_type": "execute_result",
          "data": {
            "text/plain": [
              "[3, 4]"
            ]
          },
          "metadata": {},
          "execution_count": 5
        }
      ]
    },
    {
      "cell_type": "code",
      "source": [
        "t = (1, 'two', 3.0)\n",
        "\n",
        "t[3]"
      ],
      "metadata": {
        "colab": {
          "base_uri": "https://localhost:8080/",
          "height": 180
        },
        "id": "Dbl8P6A1aYec",
        "outputId": "d89cdb9a-8c75-4778-fe1f-1da4ac0b5f95"
      },
      "execution_count": null,
      "outputs": [
        {
          "output_type": "error",
          "ename": "IndexError",
          "evalue": "tuple index out of range",
          "traceback": [
            "\u001b[0;31m---------------------------------------------------------------------------\u001b[0m",
            "\u001b[0;31mIndexError\u001b[0m                                Traceback (most recent call last)",
            "\u001b[0;32m<ipython-input-13-8e0804e66a4e>\u001b[0m in \u001b[0;36m<cell line: 3>\u001b[0;34m()\u001b[0m\n\u001b[1;32m      1\u001b[0m \u001b[0mt\u001b[0m \u001b[0;34m=\u001b[0m \u001b[0;34m(\u001b[0m\u001b[0;36m1\u001b[0m\u001b[0;34m,\u001b[0m \u001b[0;34m'two'\u001b[0m\u001b[0;34m,\u001b[0m \u001b[0;36m3.0\u001b[0m\u001b[0;34m)\u001b[0m\u001b[0;34m\u001b[0m\u001b[0;34m\u001b[0m\u001b[0m\n\u001b[1;32m      2\u001b[0m \u001b[0;34m\u001b[0m\u001b[0m\n\u001b[0;32m----> 3\u001b[0;31m \u001b[0mt\u001b[0m\u001b[0;34m[\u001b[0m\u001b[0;36m3\u001b[0m\u001b[0;34m]\u001b[0m\u001b[0;34m\u001b[0m\u001b[0;34m\u001b[0m\u001b[0m\n\u001b[0m",
            "\u001b[0;31mIndexError\u001b[0m: tuple index out of range"
          ]
        }
      ]
    },
    {
      "cell_type": "code",
      "source": [
        "grades = {\n",
        "    'Alice': 90,\n",
        "    'Bob': 88,\n",
        "    'Tracy': 93,\n",
        "    'Matthew': 91\n",
        "}\n",
        "\n",
        "grades['Bob']"
      ],
      "metadata": {
        "colab": {
          "base_uri": "https://localhost:8080/"
        },
        "id": "rHzEiIQtZOFy",
        "outputId": "adfd4628-0645-44a6-9233-8c63be628bac"
      },
      "execution_count": null,
      "outputs": [
        {
          "output_type": "execute_result",
          "data": {
            "text/plain": [
              "88"
            ]
          },
          "metadata": {},
          "execution_count": 11
        }
      ]
    },
    {
      "cell_type": "code",
      "source": [
        "grades = {\n",
        "    'Alice': 90,\n",
        "    'Bob': 88,\n",
        "    'Tracy': 93,\n",
        "    'Matthew': 91\n",
        "}\n",
        "\n",
        "grades['Megan'] = 95\n",
        "grades"
      ],
      "metadata": {
        "colab": {
          "base_uri": "https://localhost:8080/"
        },
        "id": "gfZJrGEAaH0i",
        "outputId": "6f0a79f9-b15c-4857-9147-ebcd159717e5"
      },
      "execution_count": null,
      "outputs": [
        {
          "output_type": "execute_result",
          "data": {
            "text/plain": [
              "{'Alice': 90, 'Bob': 88, 'Tracy': 93, 'Matthew': 91, 'Megan': 95}"
            ]
          },
          "metadata": {},
          "execution_count": 12
        }
      ]
    },
    {
      "cell_type": "code",
      "source": [
        "grades['Tracy'] = 96\n",
        "grades"
      ],
      "metadata": {
        "colab": {
          "base_uri": "https://localhost:8080/"
        },
        "id": "PJbRVgYxaxpc",
        "outputId": "b0e6cf55-1adc-4f2d-8e7d-69a451130b0d"
      },
      "execution_count": null,
      "outputs": [
        {
          "output_type": "execute_result",
          "data": {
            "text/plain": [
              "{'Alice': 90, 'Bob': 88, 'Tracy': 96, 'Matthew': 91, 'Megan': 95}"
            ]
          },
          "metadata": {},
          "execution_count": 16
        }
      ]
    },
    {
      "cell_type": "code",
      "source": [
        "def fill(L):\n",
        "  for i in range(10):\n",
        "    L.append(i)\n",
        "    if i%2 == 0:\n",
        "      L.pop()\n",
        "  print(L)\n",
        "\n",
        "\n",
        "aList = []\n",
        "fill(aList)"
      ],
      "metadata": {
        "colab": {
          "base_uri": "https://localhost:8080/"
        },
        "id": "eyi_DWL264Yk",
        "outputId": "23f0a1f0-8cb7-49c3-94ff-2d026deebe0e"
      },
      "execution_count": null,
      "outputs": [
        {
          "output_type": "stream",
          "name": "stdout",
          "text": [
            "[1, 3, 5, 7, 9]\n"
          ]
        }
      ]
    },
    {
      "cell_type": "code",
      "source": [
        "def fill():\n",
        "  L = []\n",
        "  for i in range(10):\n",
        "    L.append(i)\n",
        "    if i%2 == 0:\n",
        "      L.pop()\n",
        "  print(L)\n",
        "\n",
        "fill()"
      ],
      "metadata": {
        "colab": {
          "base_uri": "https://localhost:8080/"
        },
        "id": "dVUNWxK674id",
        "outputId": "f9051182-9a90-44c2-b918-e41c9a9f66ab"
      },
      "execution_count": null,
      "outputs": [
        {
          "output_type": "stream",
          "name": "stdout",
          "text": [
            "[1, 3, 5, 7, 9]\n"
          ]
        }
      ]
    },
    {
      "cell_type": "code",
      "source": [
        "def greeting(n):\n",
        "  print(f'Hello {n}!')\n",
        "\n",
        "name = input('Enter a name: ')\n",
        "greeting(name)\n"
      ],
      "metadata": {
        "colab": {
          "base_uri": "https://localhost:8080/"
        },
        "id": "DmrDPtAZ8JOi",
        "outputId": "ed78f001-1455-43d9-e1f4-013b0dbb827b"
      },
      "execution_count": null,
      "outputs": [
        {
          "output_type": "stream",
          "name": "stdout",
          "text": [
            "Enter a name: Alice\n",
            "Hello Alice!\n"
          ]
        }
      ]
    },
    {
      "cell_type": "code",
      "source": [
        "def add_num(a, b):\n",
        "  c = a + b\n",
        "  return c\n",
        "\n",
        "x = 5\n",
        "y = 6\n",
        "c = add_num(x, y)\n",
        "print(c)\n"
      ],
      "metadata": {
        "colab": {
          "base_uri": "https://localhost:8080/"
        },
        "id": "7WOQ1pvP8eGW",
        "outputId": "c6b66d3e-9715-4728-c284-2000cf1436e3"
      },
      "execution_count": null,
      "outputs": [
        {
          "output_type": "stream",
          "name": "stdout",
          "text": [
            "11\n"
          ]
        }
      ]
    },
    {
      "cell_type": "code",
      "source": [
        "def add_num(a, b):\n",
        "  c = a + b\n",
        "  return c, c ** 2\n",
        "\n",
        "x = 5\n",
        "y = 6\n",
        "c = add_num(x, y)\n",
        "print(c[1])"
      ],
      "metadata": {
        "colab": {
          "base_uri": "https://localhost:8080/"
        },
        "id": "EaLMAvJi-LE2",
        "outputId": "950d9cb3-ad68-4b35-dd0b-f180065b7a08"
      },
      "execution_count": null,
      "outputs": [
        {
          "output_type": "stream",
          "name": "stdout",
          "text": [
            "121\n"
          ]
        }
      ]
    },
    {
      "cell_type": "code",
      "source": [
        "def add_num(a, b):\n",
        "  c = a + b\n",
        "  return c, c ** 2\n",
        "\n",
        "x = 5\n",
        "y = 6\n",
        "c, c_sq = add_num(x, y)\n",
        "print(c_sq)"
      ],
      "metadata": {
        "colab": {
          "base_uri": "https://localhost:8080/"
        },
        "id": "BEY9jaVt_D_n",
        "outputId": "ed548cea-529b-484f-bdbd-3ad52a5d0cfb"
      },
      "execution_count": null,
      "outputs": [
        {
          "output_type": "stream",
          "name": "stdout",
          "text": [
            "121\n"
          ]
        }
      ]
    },
    {
      "cell_type": "code",
      "source": [
        "def add_num(a, b):\n",
        "  return a + b\n",
        "\n",
        "x = 5\n",
        "y = 6\n",
        "c = add_num(x, y)\n",
        "print(c)\n"
      ],
      "metadata": {
        "colab": {
          "base_uri": "https://localhost:8080/"
        },
        "id": "kK_OWcWS_adO",
        "outputId": "fa45ae49-f884-4862-e850-48d70424c8a0"
      },
      "execution_count": null,
      "outputs": [
        {
          "output_type": "stream",
          "name": "stdout",
          "text": [
            "11\n"
          ]
        }
      ]
    },
    {
      "cell_type": "code",
      "source": [
        "def add_num(a, b):\n",
        "  return a + b\n",
        "\n",
        "x = 5\n",
        "y = 6\n",
        "c = add_num(a=x, b=y)\n",
        "print(c)"
      ],
      "metadata": {
        "colab": {
          "base_uri": "https://localhost:8080/"
        },
        "id": "KWgxeKFzA2G7",
        "outputId": "46bb3924-7798-407b-8416-d5e11683fa91"
      },
      "execution_count": null,
      "outputs": [
        {
          "output_type": "stream",
          "name": "stdout",
          "text": [
            "11\n"
          ]
        }
      ]
    },
    {
      "cell_type": "markdown",
      "source": [
        "This is to ensure there is no error when b is a list. List always go after the number, for example, a=5, b=list.\n"
      ],
      "metadata": {
        "id": "f4kXsNhZBEEk"
      }
    },
    {
      "cell_type": "code",
      "source": [
        "def add_num(a, b):\n",
        "  return a + b\n",
        "\n",
        "x = 5\n",
        "y = 6\n",
        "c = add_num(x, b=y)\n",
        "print(c)"
      ],
      "metadata": {
        "colab": {
          "base_uri": "https://localhost:8080/"
        },
        "id": "qVph2NCFBQAY",
        "outputId": "1acc89d8-d71f-4b49-d193-fc52596bcb7c"
      },
      "execution_count": null,
      "outputs": [
        {
          "output_type": "stream",
          "name": "stdout",
          "text": [
            "11\n"
          ]
        }
      ]
    },
    {
      "cell_type": "markdown",
      "source": [
        "Keyboard arguments should follow the positional argments. Positional arguments always go first. Also, default arguments should follow non-defult arguments."
      ],
      "metadata": {
        "id": "HIRwEDtPCJwz"
      }
    },
    {
      "cell_type": "code",
      "source": [
        "def getValues(n):\n",
        "  weights = []\n",
        "  if n < 3:\n",
        "    print('Not enough weights')\n",
        "    return None\n",
        "  else:\n",
        "    for i in range(n):\n",
        "      weights.append(float(input('Enter a weight: ')))\n",
        "    return weights[2:]\n",
        "\n",
        "def calcAverage(alist):\n",
        "    print(sum(alist) / len(alist))\n",
        "\n",
        "n_weights = int(input('Enter number of weights to be added to the list: '))\n",
        "calcAverage(getValues(n_weights))\n",
        "\n"
      ],
      "metadata": {
        "id": "nvs-j4CbuZn7",
        "colab": {
          "base_uri": "https://localhost:8080/"
        },
        "outputId": "3d508336-1e87-406f-a52e-9ad5c153e625"
      },
      "execution_count": null,
      "outputs": [
        {
          "output_type": "stream",
          "name": "stdout",
          "text": [
            "Enter number of weights to be added to the list: 3\n",
            "Enter a weight: 5\n",
            "Enter a weight: 5\n",
            "Enter a weight: 6\n",
            "6.0\n"
          ]
        }
      ]
    },
    {
      "cell_type": "code",
      "source": [
        "allData = { # dictionary of values per country\n",
        "    'US': {'pop':325.7, 'gdp': 19.39, 'ccy': 'USD', 'fx':  1.0},\n",
        "    'CA': {'pop': 36.5, 'gdp':  1.65, 'ccy': 'CAD', 'fx':  1.35},\n",
        "    'MX': {'pop':129.2, 'gdp':  1.15, 'ccy': 'MXN', 'fx': 19.68},\n",
        "    }\n",
        "\n",
        "while True:\n",
        "  country_code = input('Please enter a country code (or type exit to stop): ')\n",
        "  if country_code == 'exit':\n",
        "    break\n",
        "  if country_code not in allData.keys():\n",
        "    print(f'This code does not exist: {country_code}')\n",
        "    continue\n",
        "  statistic = input('Please enter a statistic: ')\n",
        "  if statistic not in allData[country_code].keys():\n",
        "    print('Unknown statistic: {statistic}')\n",
        "    continue\n",
        "\n",
        "  if statistic == 'pop':\n",
        "    print(f'Population: {allData[country_code][statistic]} million people.')\n",
        "  elif statistic == 'gdp':\n",
        "    print(f'GDP = {allData[country_code][statistic]} trillion USD')\n",
        "  elif statistic == 'ccy':\n",
        "    print(f'Currency: {allData[country_code][statistic]}.')\n",
        "  else:\n",
        "    print(f'FX = {allData[country_code][statistic]}.')"
      ],
      "metadata": {
        "id": "R2qxmH9jQ9Ra"
      },
      "execution_count": null,
      "outputs": []
    },
    {
      "cell_type": "code",
      "source": [
        "def getParkingHours():\n",
        "  hours = int(input('Enter number of hours to park: '))\n",
        "  return hours\n",
        "\n",
        "def calcParkingFee(h):\n",
        "  fee = 2.5 * h\n",
        "\n",
        "  if fee <= 6:\n",
        "    return 6\n",
        "  elif fee >= 20:\n",
        "    return 20\n",
        "  else:\n",
        "    return fee\n",
        "\n",
        "hours = getParkingHours()\n",
        "fee = calcParkingFee(hours)\n",
        "print(f'Total fee: ${fee}')"
      ],
      "metadata": {
        "id": "fiLAEpFjCaTb",
        "colab": {
          "base_uri": "https://localhost:8080/"
        },
        "outputId": "1243449f-794c-4649-8602-99fa11d90c05"
      },
      "execution_count": null,
      "outputs": [
        {
          "output_type": "stream",
          "name": "stdout",
          "text": [
            "Enter number of hours to park: 6\n",
            "Total fee: $15.0\n"
          ]
        }
      ]
    },
    {
      "cell_type": "code",
      "source": [
        "def calcTuition(credits):\n",
        "  if credits >= 12:\n",
        "    print(f'Tuition = {20000}$')\n",
        "  elif credits >=1:\n",
        "    print(f'Tuition = {1200 +1700 * credits}$')\n",
        "  else:\n",
        "    print('Invalid number of credits')\n",
        "\n",
        "n_credits = int(input('Enter number of credits: '))\n",
        "calcTuition(n_credits)"
      ],
      "metadata": {
        "colab": {
          "base_uri": "https://localhost:8080/"
        },
        "id": "D65Md-scRBcz",
        "outputId": "3e01ceb9-cbbd-4896-ada7-2aed70951834"
      },
      "execution_count": null,
      "outputs": [
        {
          "output_type": "stream",
          "name": "stdout",
          "text": [
            "Enter number of credits: 12\n",
            "Tuition = 20000$\n"
          ]
        }
      ]
    },
    {
      "cell_type": "code",
      "source": [
        "def countdown(n):\n",
        "  while n >= 0:\n",
        "    print(n)\n",
        "    n = n - 1\n",
        "\n",
        "countdown(5)"
      ],
      "metadata": {
        "colab": {
          "base_uri": "https://localhost:8080/"
        },
        "id": "qAYBltF_uIbM",
        "outputId": "62a97ec6-87ee-45e5-d45a-5b35e0faa95e"
      },
      "execution_count": null,
      "outputs": [
        {
          "output_type": "stream",
          "name": "stdout",
          "text": [
            "5\n",
            "4\n",
            "3\n",
            "2\n",
            "1\n",
            "0\n"
          ]
        }
      ]
    },
    {
      "cell_type": "code",
      "source": [
        "def recursive_countdown(n):\n",
        "  if n == 0:\n",
        "    print(0)\n",
        "  else:\n",
        "    print(n)\n",
        "    recursive_countdown(n-1)\n",
        "\n",
        "recursive_countdown(5)"
      ],
      "metadata": {
        "colab": {
          "base_uri": "https://localhost:8080/"
        },
        "id": "n-FcTdhjw_yo",
        "outputId": "ba41f9d1-4990-4efa-92a8-71d9e659cd96"
      },
      "execution_count": null,
      "outputs": [
        {
          "output_type": "stream",
          "name": "stdout",
          "text": [
            "5\n",
            "4\n",
            "3\n",
            "2\n",
            "1\n",
            "0\n"
          ]
        }
      ]
    },
    {
      "cell_type": "code",
      "source": [
        "def summation(n):\n",
        "  s = 0\n",
        "  while n >= 0:\n",
        "    s = s + n\n",
        "    n = n - 1\n",
        "  return s\n",
        "\n",
        "print(summation(5))"
      ],
      "metadata": {
        "id": "1QyhALLAy1fe",
        "colab": {
          "base_uri": "https://localhost:8080/"
        },
        "outputId": "8b3298fb-7fbf-4bfe-fdac-6938061ccdd2"
      },
      "execution_count": null,
      "outputs": [
        {
          "output_type": "stream",
          "name": "stdout",
          "text": [
            "15\n"
          ]
        }
      ]
    },
    {
      "cell_type": "code",
      "source": [
        "def recursive_summation(n):\n",
        "  if n == 0:\n",
        "    return 0\n",
        "  else:\n",
        "    return n + recursive_summation(n-1)\n",
        "\n",
        "print(recursive_summation(3))\n"
      ],
      "metadata": {
        "colab": {
          "base_uri": "https://localhost:8080/"
        },
        "id": "hYnsLiwu07rE",
        "outputId": "b58097ae-8a64-4d2e-8ae0-c0baefbcb297"
      },
      "execution_count": null,
      "outputs": [
        {
          "output_type": "stream",
          "name": "stdout",
          "text": [
            "6\n"
          ]
        }
      ]
    },
    {
      "cell_type": "code",
      "source": [
        "def fibR(n):\n",
        "  if n == 0 or n == 1:\n",
        "    return 1\n",
        "  else:\n",
        "    return fibR(n-1) + fibR(n-2)\n",
        "\n",
        "for i in range(8):\n",
        "  print(fibR(i), end=\" \")"
      ],
      "metadata": {
        "colab": {
          "base_uri": "https://localhost:8080/"
        },
        "id": "IbHHoqv5AWel",
        "outputId": "b6f3ea64-81c2-4bd0-d11b-fedc6c9dafde"
      },
      "execution_count": null,
      "outputs": [
        {
          "output_type": "stream",
          "name": "stdout",
          "text": [
            "1 1 2 3 5 8 13 21 "
          ]
        }
      ]
    },
    {
      "cell_type": "code",
      "source": [
        "def fact(n):\n",
        "  p = 1\n",
        "  while n >= 1:\n",
        "    p = p * n\n",
        "    n = n - 1\n",
        "  return p"
      ],
      "metadata": {
        "id": "jeFE0miyEdYO"
      },
      "execution_count": null,
      "outputs": []
    },
    {
      "cell_type": "code",
      "source": [
        "def factR(n):\n",
        "  if n == 1:\n",
        "    return 1\n",
        "  else:\n",
        "    return n * factR(n-1)"
      ],
      "metadata": {
        "id": "cvpblmo1Hhh7"
      },
      "execution_count": null,
      "outputs": []
    },
    {
      "cell_type": "code",
      "source": [
        "def reverse_string(s):\n",
        "    if len(s) == 1:\n",
        "        return s\n",
        "    else:\n",
        "        return reverse_string(s[1:]) + s[0]\n",
        "\n",
        "test_string = \"Hello\"\n",
        "reversed_string = reverse_string(test_string)\n",
        "reversed_string\n"
      ],
      "metadata": {
        "colab": {
          "base_uri": "https://localhost:8080/",
          "height": 35
        },
        "id": "hUzMD3YkIUED",
        "outputId": "c99a2daa-8980-484f-a3e5-9098c9d07c7f"
      },
      "execution_count": null,
      "outputs": [
        {
          "output_type": "execute_result",
          "data": {
            "text/plain": [
              "'olleH'"
            ],
            "application/vnd.google.colaboratory.intrinsic+json": {
              "type": "string"
            }
          },
          "metadata": {},
          "execution_count": 9
        }
      ]
    },
    {
      "cell_type": "code",
      "source": [
        "def avg(alist):\n",
        "  return sum(alist) / len(alist)\n",
        "\n",
        "avg([1,2,3])"
      ],
      "metadata": {
        "colab": {
          "base_uri": "https://localhost:8080/"
        },
        "id": "3d0Q_58jGwWD",
        "outputId": "14417f57-80e3-4560-ac08-b2cbe0d87d2e"
      },
      "execution_count": null,
      "outputs": [
        {
          "output_type": "execute_result",
          "data": {
            "text/plain": [
              "2.0"
            ]
          },
          "metadata": {},
          "execution_count": 1
        }
      ]
    },
    {
      "cell_type": "code",
      "source": [
        "l = [1,3,5,7,9]\n",
        "\n",
        "try:\n",
        "  idx = int(input('Enter index: '))\n",
        "  print(l[idx])\n",
        "except IndexError:\n",
        "  print('Index value out of bounds!')\n",
        "except ValueError:\n",
        "  print('Indexes must be int')\n",
        "else:\n",
        "  print('Item found!')\n",
        "finally:\n",
        "  print('This will be displayed always!')"
      ],
      "metadata": {
        "colab": {
          "base_uri": "https://localhost:8080/"
        },
        "id": "fvklLCPxLjpf",
        "outputId": "614b9515-0d5b-49bd-deb3-6ed3d6ff00ea"
      },
      "execution_count": null,
      "outputs": [
        {
          "output_type": "stream",
          "name": "stdout",
          "text": [
            "Enter index: 8\n",
            "Index value out of bounds!\n",
            "This will be displayed always!\n"
          ]
        }
      ]
    },
    {
      "cell_type": "code",
      "source": [
        "def avg(alist):\n",
        "  try:\n",
        "    print(sum(alist) / len(alist))\n",
        "  except ZeroDivisionError:\n",
        "    print('The list is empty!')\n",
        "  except TypeError:\n",
        "    print('The list must be numeric-only!')\n",
        "  else:\n",
        "    print('Average value found')\n",
        "  finally:\n",
        "    print('This is always displayed')\n",
        "\n",
        "\n",
        "avg([])\n"
      ],
      "metadata": {
        "colab": {
          "base_uri": "https://localhost:8080/"
        },
        "id": "XyMsuix9HLdX",
        "outputId": "b16bf33b-aef3-4273-9a61-951d8a03fb4e"
      },
      "execution_count": null,
      "outputs": [
        {
          "output_type": "stream",
          "name": "stdout",
          "text": [
            "The list is empty!\n",
            "This is always displayed\n"
          ]
        }
      ]
    },
    {
      "cell_type": "code",
      "source": [
        "class Mortgage:\n",
        "  def __init__(self, amount, maturity, interest):\n",
        "    self.amount = amount\n",
        "    self.maturity = maturity\n",
        "    self.interest = interest\n",
        "\n",
        "  def payment(self):\n",
        "    B = self.amount\n",
        "    n = self.maturity * 12\n",
        "    r = self.interest / 100\n",
        "\n",
        "    return B * (r * (1 + r) ** n) / ((1 + r) ** n - 1)\n",
        "\n",
        "m = Mortgage(100000, 30, 6)\n"
      ],
      "metadata": {
        "id": "Exeeg-HDefU1"
      },
      "execution_count": null,
      "outputs": []
    },
    {
      "cell_type": "code",
      "source": [
        "m.payment()"
      ],
      "metadata": {
        "colab": {
          "base_uri": "https://localhost:8080/"
        },
        "id": "nTRqsSdxiWtv",
        "outputId": "b37bc5d7-6dd0-4253-9887-835fb8eaf391"
      },
      "execution_count": null,
      "outputs": [
        {
          "output_type": "execute_result",
          "data": {
            "text/plain": [
              "6000.000004656286"
            ]
          },
          "metadata": {},
          "execution_count": 11
        }
      ]
    },
    {
      "cell_type": "code",
      "source": [
        "m.interest - 10"
      ],
      "metadata": {
        "colab": {
          "base_uri": "https://localhost:8080/"
        },
        "id": "f6akoSWkipeA",
        "outputId": "097781ca-0ff1-49a5-898e-6ff191b4cf31"
      },
      "execution_count": null,
      "outputs": [
        {
          "output_type": "execute_result",
          "data": {
            "text/plain": [
              "-4"
            ]
          },
          "metadata": {},
          "execution_count": 13
        }
      ]
    },
    {
      "cell_type": "code",
      "source": [
        "class Mortgage:\n",
        "  def __init__(self, amount, maturity, interest):\n",
        "    self.amount = amount\n",
        "    self.maturity = maturity\n",
        "    self.__interest = interest\n",
        "\n",
        "  def get_interest(self):\n",
        "    return self.__interest\n",
        "\n",
        "  def set_interest(self, newInterest):\n",
        "    if newInterest >= 0:\n",
        "      self.__interest = newInterest\n",
        "    else:\n",
        "      print('Interest must be non-negative')\n",
        "\n",
        "\n",
        "  def payment(self):\n",
        "    B = self.amount\n",
        "    n = self.maturity * 12\n",
        "    r = self.__interest / 100\n",
        "\n",
        "    return B * (r * (1 + r) ** n) / ((1 + r) ** n - 1)\n",
        "\n",
        "m = Mortgage(100000, 30, 6)\n"
      ],
      "metadata": {
        "id": "p8RxjFyojNV8"
      },
      "execution_count": null,
      "outputs": []
    },
    {
      "cell_type": "code",
      "source": [
        "m.payment()"
      ],
      "metadata": {
        "colab": {
          "base_uri": "https://localhost:8080/"
        },
        "id": "8PmFCZArj3WC",
        "outputId": "4ccef572-5022-4fc8-fcd9-0864f2ac5242"
      },
      "execution_count": null,
      "outputs": [
        {
          "output_type": "execute_result",
          "data": {
            "text/plain": [
              "6000.000004656286"
            ]
          },
          "metadata": {},
          "execution_count": 23
        }
      ]
    },
    {
      "cell_type": "code",
      "source": [
        "m.get_interest()"
      ],
      "metadata": {
        "colab": {
          "base_uri": "https://localhost:8080/"
        },
        "id": "l9lNiu5Uj8iU",
        "outputId": "7587eea0-7b9d-4776-9976-c399eb8e3a30"
      },
      "execution_count": null,
      "outputs": [
        {
          "output_type": "execute_result",
          "data": {
            "text/plain": [
              "6"
            ]
          },
          "metadata": {},
          "execution_count": 24
        }
      ]
    },
    {
      "cell_type": "code",
      "source": [
        "class point:\n",
        "  def __init__(self, x, y):\n",
        "    self.x = x\n",
        "    self.y = y\n",
        "  def distance(self, other):\n",
        "    x_diff = (self.x - other.x) ** 2\n",
        "    y_diff = (self.y - other.y) ** 2\n",
        "    return (x_diff + y_diff) ** 0.5\n",
        "\n",
        "p1 = point(3,4)\n",
        "p2 = point(6,8)\n",
        "print(p1.distance(p2))"
      ],
      "metadata": {
        "colab": {
          "base_uri": "https://localhost:8080/"
        },
        "id": "3EfzOmxyPdtm",
        "outputId": "e2321ec4-60d3-43d5-cd8a-bda82bee8c05"
      },
      "execution_count": null,
      "outputs": [
        {
          "output_type": "stream",
          "name": "stdout",
          "text": [
            "5.0\n"
          ]
        }
      ]
    },
    {
      "cell_type": "code",
      "source": [
        "class Animal:\n",
        "  def __init__(self, legs):\n",
        "    print('Animal Created')\n",
        "    self.legs = legs\n",
        "  def whoAmI(self):\n",
        "    print('I am an animal')\n",
        "\n",
        "class Bird(Animal):\n",
        "  def __init__(self, legs, wings):\n",
        "    super().__init__(legs)\n",
        "    self.wings = wings\n",
        "    print('Bird created')\n",
        "  def fly(self):\n",
        "    print('Birds can fly')\n",
        "\n",
        "a = Animal(4)\n",
        "b = Bird(2, 2)\n"
      ],
      "metadata": {
        "colab": {
          "base_uri": "https://localhost:8080/"
        },
        "id": "zF7oFRL8kmsd",
        "outputId": "e484aa5e-4d36-464d-a752-b1ad42bad040"
      },
      "execution_count": null,
      "outputs": [
        {
          "output_type": "stream",
          "name": "stdout",
          "text": [
            "Animal Created\n",
            "Animal Created\n",
            "Bird created\n"
          ]
        }
      ]
    },
    {
      "cell_type": "code",
      "source": [
        "class point:\n",
        "  def __init__(self, x, y):\n",
        "    self.x = x\n",
        "    self.y = y\n",
        "  def distance(self, other):\n",
        "    x_diff = (self.x - other.x) ** 2\n",
        "    y_diff = (self.y - other.y) ** 2\n",
        "    return (x_diff + y_diff) ** 0.5\n",
        "\n",
        "class Point3D(point):\n",
        "  def __init__(self, x, y, z):\n",
        "    super().__init__(x, y)\n",
        "    self.z = z\n",
        "  def distance(self, other):\n",
        "    x_diff = (self.x - other.x) ** 2\n",
        "    y_diff = (self.y - other.y) ** 2\n",
        "    z_diff = (self.z - other.z) ** 2\n",
        "    return (x_diff + y_diff + z_diff) ** 0.5\n",
        "\n",
        "p1 = point(3,4)\n",
        "p2 = point(6,8)\n",
        "print(p1.distance(p2))\n",
        "\n",
        "p3d_1 = Point3D(3,4,5)\n",
        "p3d_2 = Point3D(6,8,10)\n",
        "print(p3d_1.distance(p3d_2))"
      ],
      "metadata": {
        "colab": {
          "base_uri": "https://localhost:8080/"
        },
        "id": "U3r6brMlSEZn",
        "outputId": "c33f255f-fc98-4bd5-fc04-c201a7d640ac"
      },
      "execution_count": null,
      "outputs": [
        {
          "output_type": "stream",
          "name": "stdout",
          "text": [
            "5.0\n",
            "7.0710678118654755\n"
          ]
        }
      ]
    },
    {
      "cell_type": "code",
      "source": [
        "while True:\n",
        "  try:\n",
        "    x = float(input('Enter an integer value: '))\n",
        "    y = float(input('Enter another integer value: '))\n",
        "    z = str(input('Enter an operator: '))\n",
        "    if (x) == 'break':\n",
        "      break\n",
        "    elif (y) == 'break':\n",
        "      break\n",
        "    elif (z) == 'break':\n",
        "      break\n",
        "    else:\n",
        "      if z == '+':\n",
        "        print(x+y)\n",
        "      elif z == '-':\n",
        "        print(x-y)\n",
        "      elif z == '*':\n",
        "        print(x*y)\n",
        "      elif z == '/':\n",
        "        print(x/y)\n",
        "      elif z == '//':\n",
        "        print(x//y)\n",
        "      elif z == '%':\n",
        "        print(x%y)\n",
        "      elif z == '**':\n",
        "        print(x**y)\n",
        "  except ValueError:\n",
        "    print(\"Invalid input. Please enter a valid number.\")\n",
        "  except ZeroDivisionError:\n",
        "    print(\"Error: Division by zero.\")"
      ],
      "metadata": {
        "id": "qboV2_fYkP8f"
      },
      "execution_count": null,
      "outputs": []
    },
    {
      "cell_type": "code",
      "source": [
        "name = input('Enter your name: ')\n",
        "customertype = input('Enter customer type (n: new, e:existing): ')\n",
        "deposit = float(input(\"Enter deposit amount (in $): \"))\n",
        "\n",
        "if customertype == 'n':\n",
        "  interest = .03\n",
        "\n",
        "else:\n",
        "  if deposit <= 1000:\n",
        "    interest = .03\n",
        "  elif deposit <=10000:\n",
        "    interest = .0325\n",
        "  elif deposit >10000:\n",
        "    interest = .035\n",
        "\n",
        "  total = (1+interest) * deposit\n",
        "  print(total)"
      ],
      "metadata": {
        "colab": {
          "base_uri": "https://localhost:8080/"
        },
        "id": "ebgFnX5akjbN",
        "outputId": "c3a4a496-4d91-470e-f37c-343391369c1e"
      },
      "execution_count": null,
      "outputs": [
        {
          "output_type": "stream",
          "name": "stdout",
          "text": [
            "Enter your name: Juan\n",
            "Enter customer type (n: new, e:existing): new\n",
            "Enter deposit amount (in $): 30000\n",
            "31049.999999999996\n"
          ]
        }
      ]
    },
    {
      "cell_type": "code",
      "source": [
        "import pprint\n",
        "months = {}\n",
        "\n",
        "numbers = [1,2,3,4,5,6,7,8,9,10,11,12]\n",
        "names = [\"Jan\",\"Feb\",\"Mar\",\"Apr\",\"May\",\"Jun\",\"Jul\",\"Aug\",\"Sep\",\"Oct\",\"Nov\",\"Dec\"]\n",
        "\n",
        "for key in range(len(numbers)):\n",
        "  months[numbers[key]]=names[key]\n",
        "\n",
        "pprint.pprint(months)"
      ],
      "metadata": {
        "colab": {
          "base_uri": "https://localhost:8080/"
        },
        "id": "82zIwBA-lAdM",
        "outputId": "234865ec-3fa0-4ac8-bb8b-5fd1ea61ad47"
      },
      "execution_count": null,
      "outputs": [
        {
          "output_type": "stream",
          "name": "stdout",
          "text": [
            "{1: 'Jan',\n",
            " 2: 'Feb',\n",
            " 3: 'Mar',\n",
            " 4: 'Apr',\n",
            " 5: 'May',\n",
            " 6: 'Jun',\n",
            " 7: 'Jul',\n",
            " 8: 'Aug',\n",
            " 9: 'Sep',\n",
            " 10: 'Oct',\n",
            " 11: 'Nov',\n",
            " 12: 'Dec'}\n"
          ]
        }
      ]
    },
    {
      "cell_type": "code",
      "source": [
        "year = int(input(\"Enter a year: \"))\n",
        "\n",
        "if (year % 4 == 0 and year % 100 != 0) or (year % 400 == 0):\n",
        "    print(f\"{year} is a leap year!\")\n",
        "else:\n",
        "    print(f\"{year} is not a leap year.\")"
      ],
      "metadata": {
        "id": "gnVWDpqUlEs4"
      },
      "execution_count": null,
      "outputs": []
    },
    {
      "cell_type": "code",
      "source": [
        "L = []\n",
        "\n",
        "number = int(input('Enter a value: '))\n",
        "\n",
        "while number != 0:\n",
        "  L.append(number)\n",
        "  number = int(input('Enter a value: '))\n",
        "L"
      ],
      "metadata": {
        "id": "66fo5EqmlNhi"
      },
      "execution_count": null,
      "outputs": []
    },
    {
      "cell_type": "code",
      "source": [
        "init_attendees = 20\n",
        "fixed_cost = 200\n",
        "\n",
        "for advertising in range(0, 201, 25):\n",
        "  attendees = float(2*round(advertising**.5) + init_attendees)\n",
        "  profit = float((attendees * 10) - advertising - fixed_cost)\n",
        "  print(f'{advertising} ${profit}')\n",
        ""
      ],
      "metadata": {
        "id": "2iT_secJlQSn"
      },
      "execution_count": null,
      "outputs": []
    },
    {
      "cell_type": "code",
      "source": [
        "hours = int(input('Enter number of house parked: '))\n",
        "fee = 2.5 * hours\n",
        "if fee <= 6:\n",
        "  print(6)\n",
        "elif fee>=20:\n",
        "  print(20)\n",
        "else:\n",
        "  print(fee)"
      ],
      "metadata": {
        "id": "fZe6jdbQlUVC"
      },
      "execution_count": null,
      "outputs": []
    },
    {
      "cell_type": "code",
      "source": [
        "import random\n",
        "\n",
        "user_choice = input(\"Enter your choice (rock, paper, or scissors): \")\n",
        "computer_choice = random.choice([\"rock\", \"paper\", \"scissors\"])\n",
        "\n",
        "print(f\"You chose: {user_choice}\")\n",
        "print(f\"Computer chose: {computer_choice}\")\n",
        "\n",
        "if user_choice == computer_choice:\n",
        "    print(\"It's a tie!\")\n",
        "elif (\n",
        "    (user_choice == \"rock\" and computer_choice == \"scissors\") or\n",
        "    (user_choice == \"paper\" and computer_choice == \"rock\") or\n",
        "    (user_choice == \"scissors\" and computer_choice == \"paper\")\n",
        "):\n",
        "    print(\"You win!\")\n",
        "else:\n",
        "    print(\"Computer wins!\")"
      ],
      "metadata": {
        "colab": {
          "base_uri": "https://localhost:8080/"
        },
        "id": "DEk2eeEplg1x",
        "outputId": "5b1e13d0-0da1-4ab1-d328-556ea75baed2"
      },
      "execution_count": 6,
      "outputs": [
        {
          "output_type": "stream",
          "name": "stdout",
          "text": [
            "Enter your choice (rock, paper, or scissors): rock\n",
            "You chose: rock\n",
            "Computer chose: scissors\n",
            "You win!\n"
          ]
        }
      ]
    },
    {
      "cell_type": "code",
      "source": [
        "def factR(n):\n",
        "    if n == 1:\n",
        "      return 1\n",
        "    else:\n",
        "      return n * factR(n-1)"
      ],
      "metadata": {
        "id": "4n1LFQ1nloBB"
      },
      "execution_count": null,
      "outputs": []
    },
    {
      "cell_type": "code",
      "source": [
        "def mirrorString(s):\n",
        "  if len(s) == 1:\n",
        "    return s\n",
        "  else:\n",
        "    return s[-1]+mirrorString(s[:-1])\n",
        "\n",
        "mirrorString(\"string\")"
      ],
      "metadata": {
        "id": "YRDPT6hdlqnJ"
      },
      "execution_count": null,
      "outputs": []
    }
  ]
}